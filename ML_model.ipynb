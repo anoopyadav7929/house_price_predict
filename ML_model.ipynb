{
 "cells": [
  {
   "cell_type": "code",
   "execution_count": 22,
   "metadata": {},
   "outputs": [],
   "source": [
    "import numpy as np\n",
    "import matplotlib.pyplot as plt\n",
    "import pandas as pd"
   ]
  },
  {
   "cell_type": "code",
   "execution_count": 23,
   "metadata": {},
   "outputs": [],
   "source": [
    "dataset = pd.read_csv('Cleaned_Data.csv')\n",
    "X = dataset.iloc[:, :-1]\n",
    "y = dataset.iloc[:, -1]"
   ]
  },
  {
   "cell_type": "code",
   "execution_count": 24,
   "metadata": {},
   "outputs": [],
   "source": [
    "from sklearn.model_selection import train_test_split\n",
    "from sklearn.linear_model import LinearRegression , Lasso , Ridge\n",
    "from sklearn.preprocessing import StandardScaler , OneHotEncoder\n",
    "from sklearn.pipeline import make_pipeline\n",
    "from sklearn.metrics import r2_score\n",
    "from sklearn.compose import make_column_transformer"
   ]
  },
  {
   "cell_type": "code",
   "execution_count": 25,
   "metadata": {},
   "outputs": [],
   "source": [
    "x_train , x_test, y_train , y_test = train_test_split(X, y , train_size=0.8 , test_size=0.2 , random_state=1)"
   ]
  },
  {
   "cell_type": "code",
   "execution_count": 26,
   "metadata": {},
   "outputs": [],
   "source": [
    "CT = make_column_transformer((OneHotEncoder() , [\"location\"]) , (StandardScaler() , [1 , 2 , 3]), remainder=\"passthrough\") \n",
    "LR = LinearRegression()\n",
    "LASSO = Lasso()\n",
    "RIDGE = Ridge()"
   ]
  },
  {
   "cell_type": "code",
   "execution_count": 27,
   "metadata": {},
   "outputs": [
    {
     "name": "stdout",
     "output_type": "stream",
     "text": [
      "accuracy by LR is 0.8504408907183183\n"
     ]
    }
   ],
   "source": [
    "# Linear regression model\n",
    "\n",
    "pipe = make_pipeline(CT, LR)\n",
    "pipe.fit(x_train, y_train)\n",
    "\n",
    "ypred_LR = pipe.predict(x_test)\n",
    "r2_score_LR = r2_score(y_test, ypred_LR)\n",
    "print(\"accuracy by LR is\" , r2_score_LR)"
   ]
  },
  {
   "cell_type": "code",
   "execution_count": 28,
   "metadata": {},
   "outputs": [
    {
     "name": "stdout",
     "output_type": "stream",
     "text": [
      "accuracy by lasso is 0.6995659347105603\n"
     ]
    }
   ],
   "source": [
    "# lasso regression model\n",
    "\n",
    "pipe = make_pipeline(CT , LASSO)\n",
    "pipe.fit(x_train , y_train)\n",
    "\n",
    "ypred_LASSO = pipe.predict(x_test)\n",
    "r2score_LASSO = r2_score(y_test , ypred_LASSO)\n",
    "print(\"accuracy by lasso is\" , r2score_LASSO)"
   ]
  },
  {
   "cell_type": "code",
   "execution_count": 29,
   "metadata": {},
   "outputs": [
    {
     "name": "stdout",
     "output_type": "stream",
     "text": [
      "accuracy by ridge is 0.8495364514444995\n"
     ]
    }
   ],
   "source": [
    "# ridge regression model\n",
    "\n",
    "pipe = make_pipeline(CT , RIDGE)\n",
    "pipe.fit(x_train , y_train)\n",
    "\n",
    "ypred_RIDGE = pipe.predict(x_test)\n",
    "r2score_RIDGE = r2_score(y_test , ypred_RIDGE)\n",
    "print(\"accuracy by ridge is\" , r2score_RIDGE)"
   ]
  },
  {
   "cell_type": "code",
   "execution_count": 30,
   "metadata": {},
   "outputs": [],
   "source": [
    "# model selection can be either ridge or linear regression as they have ~85% accuracy.\n",
    "# Whereas lasso model gives only 69% accuracy\n",
    "\n",
    "import pickle\n",
    "pickle.dump(pipe , open(\"RidgeModel.pkl\" , \"wb\"))"
   ]
  }
 ],
 "metadata": {
  "kernelspec": {
   "display_name": "base",
   "language": "python",
   "name": "python3"
  },
  "language_info": {
   "codemirror_mode": {
    "name": "ipython",
    "version": 3
   },
   "file_extension": ".py",
   "mimetype": "text/x-python",
   "name": "python",
   "nbconvert_exporter": "python",
   "pygments_lexer": "ipython3",
   "version": "3.11.4"
  }
 },
 "nbformat": 4,
 "nbformat_minor": 2
}
